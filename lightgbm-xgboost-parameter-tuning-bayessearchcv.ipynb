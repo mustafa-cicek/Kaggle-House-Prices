{
 "cells": [
  {
   "cell_type": "code",
   "execution_count": 1,
   "metadata": {
    "_kg_hide-output": true,
    "execution": {
     "iopub.execute_input": "2021-01-13T21:23:23.705426Z",
     "iopub.status.busy": "2021-01-13T21:23:23.704770Z",
     "iopub.status.idle": "2021-01-13T21:23:23.711164Z",
     "shell.execute_reply": "2021-01-13T21:23:23.711699Z"
    },
    "papermill": {
     "duration": 0.042731,
     "end_time": "2021-01-13T21:23:23.711919",
     "exception": false,
     "start_time": "2021-01-13T21:23:23.669188",
     "status": "completed"
    },
    "tags": []
   },
   "outputs": [],
   "source": [
    "import numpy as np\n",
    "import pandas as pd\n",
    "from datetime import datetime\n",
    "\n",
    "np.random.seed(42)\n",
    "pd.set_option('display.max_columns', 500)"
   ]
  },
  {
   "cell_type": "code",
   "execution_count": 2,
   "metadata": {
    "_kg_hide-output": true,
    "execution": {
     "iopub.execute_input": "2021-01-13T21:23:23.784269Z",
     "iopub.status.busy": "2021-01-13T21:23:23.783524Z",
     "iopub.status.idle": "2021-01-13T21:23:38.315980Z",
     "shell.execute_reply": "2021-01-13T21:23:38.316472Z"
    },
    "papermill": {
     "duration": 14.573096,
     "end_time": "2021-01-13T21:23:38.316617",
     "exception": false,
     "start_time": "2021-01-13T21:23:23.743521",
     "status": "completed"
    },
    "tags": []
   },
   "outputs": [
    {
     "name": "stdout",
     "output_type": "stream",
     "text": [
      "Requirement already satisfied: lightgbm in /opt/conda/lib/python3.7/site-packages (2.3.1)\r\n",
      "Collecting lightgbm\r\n",
      "  Downloading lightgbm-3.1.1-py2.py3-none-manylinux1_x86_64.whl (1.8 MB)\r\n",
      "\u001b[K     |████████████████████████████████| 1.8 MB 884 kB/s \r\n",
      "\u001b[?25hRequirement already satisfied: scikit-learn!=0.22.0 in /opt/conda/lib/python3.7/site-packages (from lightgbm) (0.23.2)\r\n",
      "Requirement already satisfied: numpy in /opt/conda/lib/python3.7/site-packages (from lightgbm) (1.18.5)\r\n",
      "Requirement already satisfied: wheel in /opt/conda/lib/python3.7/site-packages (from lightgbm) (0.34.2)\r\n",
      "Requirement already satisfied: scipy in /opt/conda/lib/python3.7/site-packages (from lightgbm) (1.4.1)\r\n",
      "Requirement already satisfied: numpy in /opt/conda/lib/python3.7/site-packages (from lightgbm) (1.18.5)\r\n",
      "Requirement already satisfied: joblib>=0.11 in /opt/conda/lib/python3.7/site-packages (from scikit-learn!=0.22.0->lightgbm) (0.14.1)\r\n",
      "Requirement already satisfied: scipy in /opt/conda/lib/python3.7/site-packages (from lightgbm) (1.4.1)\r\n",
      "Requirement already satisfied: threadpoolctl>=2.0.0 in /opt/conda/lib/python3.7/site-packages (from scikit-learn!=0.22.0->lightgbm) (2.1.0)\r\n",
      "Requirement already satisfied: numpy in /opt/conda/lib/python3.7/site-packages (from lightgbm) (1.18.5)\r\n",
      "Installing collected packages: lightgbm\r\n",
      "  Attempting uninstall: lightgbm\r\n",
      "    Found existing installation: lightgbm 2.3.1\r\n",
      "    Uninstalling lightgbm-2.3.1:\r\n",
      "      Successfully uninstalled lightgbm-2.3.1\r\n",
      "Successfully installed lightgbm-3.1.1\r\n",
      "\u001b[33mWARNING: You are using pip version 20.3.1; however, version 20.3.3 is available.\r\n",
      "You should consider upgrading via the '/opt/conda/bin/python3.7 -m pip install --upgrade pip' command.\u001b[0m\r\n"
     ]
    },
    {
     "data": {
      "text/html": [
       "<style type='text/css'>\n",
       ".datatable table.frame { margin-bottom: 0; }\n",
       ".datatable table.frame thead { border-bottom: none; }\n",
       ".datatable table.frame tr.coltypes td {  color: #FFFFFF;  line-height: 6px;  padding: 0 0.5em;}\n",
       ".datatable .bool    { background: #DDDD99; }\n",
       ".datatable .object  { background: #565656; }\n",
       ".datatable .int     { background: #5D9E5D; }\n",
       ".datatable .float   { background: #4040CC; }\n",
       ".datatable .str     { background: #CC4040; }\n",
       ".datatable .row_index {  background: var(--jp-border-color3);  border-right: 1px solid var(--jp-border-color0);  color: var(--jp-ui-font-color3);  font-size: 9px;}\n",
       ".datatable .frame tr.coltypes .row_index {  background: var(--jp-border-color0);}\n",
       ".datatable th:nth-child(2) { padding-left: 12px; }\n",
       ".datatable .hellipsis {  color: var(--jp-cell-editor-border-color);}\n",
       ".datatable .vellipsis {  background: var(--jp-layout-color0);  color: var(--jp-cell-editor-border-color);}\n",
       ".datatable .na {  color: var(--jp-cell-editor-border-color);  font-size: 80%;}\n",
       ".datatable .footer { font-size: 9px; }\n",
       ".datatable .frame_dimensions {  background: var(--jp-border-color3);  border-top: 1px solid var(--jp-border-color0);  color: var(--jp-ui-font-color3);  display: inline-block;  opacity: 0.6;  padding: 1px 10px 1px 5px;}\n",
       "</style>\n"
      ],
      "text/plain": [
       "<IPython.core.display.HTML object>"
      ]
     },
     "metadata": {},
     "output_type": "display_data"
    }
   ],
   "source": [
    "from sklearn.model_selection import KFold, cross_val_score\n",
    "from skopt import BayesSearchCV\n",
    "from skopt.space import Real, Integer, Categorical\n",
    "!pip install --upgrade lightgbm\n",
    "import lightgbm as lgb\n",
    "import xgboost as xgb\n",
    "from sklearn.ensemble import GradientBoostingRegressor\n",
    "from sklearn.svm import SVR\n",
    "from sklearn.linear_model import Lasso, Ridge, ElasticNet"
   ]
  },
  {
   "cell_type": "code",
   "execution_count": 3,
   "metadata": {
    "execution": {
     "iopub.execute_input": "2021-01-13T21:23:38.404020Z",
     "iopub.status.busy": "2021-01-13T21:23:38.403120Z",
     "iopub.status.idle": "2021-01-13T21:23:39.103155Z",
     "shell.execute_reply": "2021-01-13T21:23:39.103641Z"
    },
    "papermill": {
     "duration": 0.744775,
     "end_time": "2021-01-13T21:23:39.103784",
     "exception": false,
     "start_time": "2021-01-13T21:23:38.359009",
     "status": "completed"
    },
    "tags": []
   },
   "outputs": [],
   "source": [
    "X_train = np.loadtxt(\"../input/house-prices-parameter-tuning/xtrain.csv\", delimiter=\",\")\n",
    "y_train = np.loadtxt(\"../input/house-prices-parameter-tuning/ytrain.csv\", delimiter=\",\")\n",
    "X_test = np.loadtxt(\"../input/house-prices-parameter-tuning/xtest.csv\", delimiter=\",\")\n",
    "test_id = np.loadtxt(\"../input/house-prices-parameter-tuning/testid.csv\", delimiter=\",\")"
   ]
  },
  {
   "cell_type": "code",
   "execution_count": 4,
   "metadata": {
    "execution": {
     "iopub.execute_input": "2021-01-13T21:23:39.194277Z",
     "iopub.status.busy": "2021-01-13T21:23:39.193527Z",
     "iopub.status.idle": "2021-01-13T21:23:39.196258Z",
     "shell.execute_reply": "2021-01-13T21:23:39.196747Z"
    },
    "papermill": {
     "duration": 0.05265,
     "end_time": "2021-01-13T21:23:39.196905",
     "exception": false,
     "start_time": "2021-01-13T21:23:39.144255",
     "status": "completed"
    },
    "tags": []
   },
   "outputs": [],
   "source": [
    "kf = KFold(n_splits = 10, shuffle = True, random_state = 42)\n",
    "\n",
    "def rmse_cv(model, X = X_train, y = y_train):    \n",
    "    return np.sqrt(-cross_val_score(model, X, y, scoring = 'neg_mean_squared_error', cv = kf)).mean()"
   ]
  },
  {
   "cell_type": "markdown",
   "metadata": {
    "papermill": {
     "duration": 0.041367,
     "end_time": "2021-01-13T21:23:39.278963",
     "exception": false,
     "start_time": "2021-01-13T21:23:39.237596",
     "status": "completed"
    },
    "tags": []
   },
   "source": [
    "# BayesSearchCV"
   ]
  },
  {
   "cell_type": "markdown",
   "metadata": {
    "papermill": {
     "duration": 0.042692,
     "end_time": "2021-01-13T21:23:39.366464",
     "exception": false,
     "start_time": "2021-01-13T21:23:39.323772",
     "status": "completed"
    },
    "tags": []
   },
   "source": [
    "In this notebook, I won't try to explain meaning of parameters. I just want to share my codes on tuning parameters in https://www.kaggle.com/mustafacicek/comprehensive-eda-feature-engineering-top-4\n",
    "\n",
    "\n",
    "And, of course, I want to show the performance of BayesSearchCV"
   ]
  },
  {
   "cell_type": "markdown",
   "metadata": {
    "papermill": {
     "duration": 0.042026,
     "end_time": "2021-01-13T21:23:39.451945",
     "exception": false,
     "start_time": "2021-01-13T21:23:39.409919",
     "status": "completed"
    },
    "tags": []
   },
   "source": [
    "**Pros**\n",
    "\n",
    "-Instead of grid or distributions, you can give a space for parameter\n",
    "\n",
    "-You can add a callback. It gives us a chance to monitoring best score or best parameters.\n",
    "This process stops when you reach the best score you want.\n",
    "\n",
    "Of course, Bayesian optimization"
   ]
  },
  {
   "cell_type": "code",
   "execution_count": 5,
   "metadata": {
    "execution": {
     "iopub.execute_input": "2021-01-13T21:23:39.579643Z",
     "iopub.status.busy": "2021-01-13T21:23:39.578871Z",
     "iopub.status.idle": "2021-01-13T21:23:39.583939Z",
     "shell.execute_reply": "2021-01-13T21:23:39.584695Z"
    },
    "papermill": {
     "duration": 0.068734,
     "end_time": "2021-01-13T21:23:39.584882",
     "exception": false,
     "start_time": "2021-01-13T21:23:39.516148",
     "status": "completed"
    },
    "tags": []
   },
   "outputs": [],
   "source": [
    "def on_step(optim_result):\n",
    "    \"\"\"\n",
    "    Callback meant to view scores after\n",
    "    each iteration while performing Bayesian\n",
    "    Optimization in Skopt\"\"\"\n",
    "    score = opt.best_score_\n",
    "    print(\"best score: %s\" % score)\n",
    "    if score >= -0.11:\n",
    "        print('Interrupting!')\n",
    "        return True"
   ]
  },
  {
   "cell_type": "markdown",
   "metadata": {
    "papermill": {
     "duration": 0.060087,
     "end_time": "2021-01-13T21:23:39.704764",
     "exception": false,
     "start_time": "2021-01-13T21:23:39.644677",
     "status": "completed"
    },
    "tags": []
   },
   "source": [
    "This callback function defined in https://scikit-optimize.github.io/stable/auto_examples/sklearn-gridsearchcv-replacement.html#sphx-glr-auto-examples-sklearn-gridsearchcv-replacement-py"
   ]
  },
  {
   "cell_type": "markdown",
   "metadata": {
    "papermill": {
     "duration": 0.061043,
     "end_time": "2021-01-13T21:23:39.826316",
     "exception": false,
     "start_time": "2021-01-13T21:23:39.765273",
     "status": "completed"
    },
    "tags": []
   },
   "source": [
    "# Parameter Tuning For LightGBM, XGBoost, GradientBoosting"
   ]
  },
  {
   "cell_type": "markdown",
   "metadata": {
    "papermill": {
     "duration": 0.06303,
     "end_time": "2021-01-13T21:23:39.952465",
     "exception": false,
     "start_time": "2021-01-13T21:23:39.889435",
     "status": "completed"
    },
    "tags": []
   },
   "source": [
    "For detailed information of parameters, you can take a look https://sites.google.com/view/lauraepp/parameters"
   ]
  },
  {
   "cell_type": "markdown",
   "metadata": {
    "papermill": {
     "duration": 0.060204,
     "end_time": "2021-01-13T21:23:40.073653",
     "exception": false,
     "start_time": "2021-01-13T21:23:40.013449",
     "status": "completed"
    },
    "tags": []
   },
   "source": [
    "Boosting algorithms have lots of parameters but you don't have to tune all of them.\n",
    "\n",
    "https://lightgbm.readthedocs.io/en/latest/Parameters-Tuning.html"
   ]
  },
  {
   "cell_type": "code",
   "execution_count": 6,
   "metadata": {
    "execution": {
     "iopub.execute_input": "2021-01-13T21:23:40.202298Z",
     "iopub.status.busy": "2021-01-13T21:23:40.201308Z",
     "iopub.status.idle": "2021-01-13T21:23:47.244592Z",
     "shell.execute_reply": "2021-01-13T21:23:47.243809Z"
    },
    "papermill": {
     "duration": 7.109819,
     "end_time": "2021-01-13T21:23:47.244724",
     "exception": false,
     "start_time": "2021-01-13T21:23:40.134905",
     "status": "completed"
    },
    "tags": []
   },
   "outputs": [
    {
     "data": {
      "text/plain": [
       "0.1275962354965227"
      ]
     },
     "execution_count": 6,
     "metadata": {},
     "output_type": "execute_result"
    }
   ],
   "source": [
    "lgbr = lgb.LGBMRegressor(objective = \"regression\", n_jobs = -1, random_state = 42, learning_rate = 0.1, n_estimators = 200)\n",
    "\n",
    "rmse_cv(lgbr)"
   ]
  },
  {
   "cell_type": "markdown",
   "metadata": {
    "papermill": {
     "duration": 0.051527,
     "end_time": "2021-01-13T21:23:47.348264",
     "exception": false,
     "start_time": "2021-01-13T21:23:47.296737",
     "status": "completed"
    },
    "tags": []
   },
   "source": [
    "For default LGBMRegressor model, our RMSLE is 0.127596 on cv"
   ]
  },
  {
   "cell_type": "markdown",
   "metadata": {
    "papermill": {
     "duration": 0.047258,
     "end_time": "2021-01-13T21:23:47.446604",
     "exception": false,
     "start_time": "2021-01-13T21:23:47.399346",
     "status": "completed"
    },
    "tags": []
   },
   "source": [
    "**Parameter tuning for boosting algorithms**;\n",
    "\n",
    "1- Tune the parameters except n_estimators and learning rate,\n",
    "\n",
    "2- Then Increase the n_estimators(number of boosting rounds) and reduce the learning rate."
   ]
  },
  {
   "cell_type": "code",
   "execution_count": 7,
   "metadata": {
    "execution": {
     "iopub.execute_input": "2021-01-13T21:23:47.534155Z",
     "iopub.status.busy": "2021-01-13T21:23:47.533371Z",
     "iopub.status.idle": "2021-01-13T21:23:47.536064Z",
     "shell.execute_reply": "2021-01-13T21:23:47.536729Z"
    },
    "papermill": {
     "duration": 0.049926,
     "end_time": "2021-01-13T21:23:47.536913",
     "exception": false,
     "start_time": "2021-01-13T21:23:47.486987",
     "status": "completed"
    },
    "tags": []
   },
   "outputs": [],
   "source": [
    "# %%time\n",
    "# start = datetime.now()\n",
    "# print(start)\n",
    "\n",
    "# opt = BayesSearchCV(lgbr, \n",
    "#                     {\n",
    "#                         \"max_depth\": Integer(3, 13),\n",
    "#                         \"num_leaves\": Integer(20, 200),\n",
    "#                         \"min_child_samples\": Integer(7, 75),\n",
    "#                         \"colsample_bytree\": Real(0.25, 1),\n",
    "#                         \"subsample\": Real(0.25, 1),\n",
    "#                         \"subsample_freq\": Integer(1, 50),\n",
    "#                         \"reg_alpha\": Real(0, 1),\n",
    "#                         \"reg_lambda\": Real(0, 1),\n",
    "#                         \"min_split_gain\": Real(0, 0.5)\n",
    "#                     },\n",
    "#                     n_iter = 150,\n",
    "#                     cv = kf,\n",
    "#                     n_jobs = -1,\n",
    "#                     scoring = \"neg_root_mean_squared_error\",\n",
    "#                     random_state = 42\n",
    "#                    )\n",
    "\n",
    "\n",
    "# opt.fit(X_train, y_train, callback = on_step)\n",
    "\n",
    "# end = datetime.now()\n",
    "# print(end)\n",
    "\n",
    "# print(\"Best Score is: \", opt.best_score_, \"\\n\")\n",
    "\n",
    "# print(\"Best Parameters: \", opt.best_params_, \"\\n\")\n",
    "\n",
    "# lgbr2 = opt.best_estimator_\n",
    "# lgbr2"
   ]
  },
  {
   "cell_type": "code",
   "execution_count": 8,
   "metadata": {
    "execution": {
     "iopub.execute_input": "2021-01-13T21:23:47.662998Z",
     "iopub.status.busy": "2021-01-13T21:23:47.662160Z",
     "iopub.status.idle": "2021-01-13T21:23:51.056070Z",
     "shell.execute_reply": "2021-01-13T21:23:51.056987Z"
    },
    "papermill": {
     "duration": 3.459032,
     "end_time": "2021-01-13T21:23:51.057172",
     "exception": false,
     "start_time": "2021-01-13T21:23:47.598140",
     "status": "completed"
    },
    "tags": []
   },
   "outputs": [
    {
     "data": {
      "text/plain": [
       "0.11875287245960472"
      ]
     },
     "execution_count": 8,
     "metadata": {},
     "output_type": "execute_result"
    }
   ],
   "source": [
    "lgbr2 = lgb.LGBMRegressor(colsample_bytree=0.25, max_depth=13, min_child_samples=7,\n",
    "                          n_estimators=200, num_leaves=20, objective='regression',\n",
    "                          random_state=42, subsample=0.9330025956033094, subsample_freq=1)\n",
    "\n",
    "rmse_cv(lgbr2)"
   ]
  },
  {
   "cell_type": "markdown",
   "metadata": {
    "papermill": {
     "duration": 0.072289,
     "end_time": "2021-01-13T21:23:51.201942",
     "exception": false,
     "start_time": "2021-01-13T21:23:51.129653",
     "status": "completed"
    },
    "tags": []
   },
   "source": [
    "This tuning process for LGBMRegressor took 14 minutes.\n",
    "\n",
    "Remember, our default LGBMRegressor model has 0.127596 RMSLE score.\n",
    "After the tuning, RMSLE score on local cv is 0.1187528, and the score on leaderboard is 0.1253."
   ]
  },
  {
   "cell_type": "code",
   "execution_count": 9,
   "metadata": {
    "execution": {
     "iopub.execute_input": "2021-01-13T21:23:51.342664Z",
     "iopub.status.busy": "2021-01-13T21:23:51.342015Z",
     "iopub.status.idle": "2021-01-13T21:24:17.258903Z",
     "shell.execute_reply": "2021-01-13T21:24:17.258320Z"
    },
    "papermill": {
     "duration": 25.988831,
     "end_time": "2021-01-13T21:24:17.259020",
     "exception": false,
     "start_time": "2021-01-13T21:23:51.270189",
     "status": "completed"
    },
    "tags": []
   },
   "outputs": [
    {
     "data": {
      "text/plain": [
       "0.1244116985968082"
      ]
     },
     "execution_count": 9,
     "metadata": {},
     "output_type": "execute_result"
    }
   ],
   "source": [
    "xgbr = xgb.XGBRegressor(objective = \"reg:squarederror\", n_jobs = -1, random_state = 42, learning_rate = 0.1, n_estimators = 200)\n",
    "\n",
    "rmse_cv(xgbr)"
   ]
  },
  {
   "cell_type": "code",
   "execution_count": 10,
   "metadata": {
    "execution": {
     "iopub.execute_input": "2021-01-13T21:24:17.348989Z",
     "iopub.status.busy": "2021-01-13T21:24:17.348268Z",
     "iopub.status.idle": "2021-01-13T21:24:17.351610Z",
     "shell.execute_reply": "2021-01-13T21:24:17.352110Z"
    },
    "papermill": {
     "duration": 0.051219,
     "end_time": "2021-01-13T21:24:17.352264",
     "exception": false,
     "start_time": "2021-01-13T21:24:17.301045",
     "status": "completed"
    },
    "tags": []
   },
   "outputs": [],
   "source": [
    "# %%time\n",
    "# start = datetime.now()\n",
    "# print(start)\n",
    "\n",
    "# opt = BayesSearchCV(xgbr, \n",
    "#                     {\n",
    "#                         \"max_depth\": Integer(3, 13),\n",
    "#                         \"colsample_bytree\": Real(0.25, 1),\n",
    "#                         \"subsample\": Real(0.25, 1),\n",
    "#                         \"reg_alpha\": Real(0, 1),\n",
    "#                         \"reg_lambda\": Real(0, 1),\n",
    "#                         \"gamma\": Real(0, 0.5)\n",
    "#                     },\n",
    "#                     n_iter = 150,\n",
    "#                     cv = kf,\n",
    "#                     n_jobs = -1,\n",
    "#                     scoring = \"neg_root_mean_squared_error\",\n",
    "#                     random_state = 42\n",
    "#                    )\n",
    "\n",
    "\n",
    "# opt.fit(X_train, y_train, callback = on_step)\n",
    "\n",
    "\n",
    "# end = datetime.now()\n",
    "# print(end)\n",
    "\n",
    "# print(\"Best Score is: \", opt.best_score_, \"\\n\")\n",
    "\n",
    "# print(\"Best Parameters: \", opt.best_params_, \"\\n\")\n",
    "\n",
    "# xgbr2 = opt.best_estimator_\n",
    "# xgbr2"
   ]
  },
  {
   "cell_type": "code",
   "execution_count": 11,
   "metadata": {
    "execution": {
     "iopub.execute_input": "2021-01-13T21:24:17.443223Z",
     "iopub.status.busy": "2021-01-13T21:24:17.442527Z",
     "iopub.status.idle": "2021-01-13T21:24:23.819272Z",
     "shell.execute_reply": "2021-01-13T21:24:23.818630Z"
    },
    "papermill": {
     "duration": 6.424681,
     "end_time": "2021-01-13T21:24:23.819358",
     "exception": false,
     "start_time": "2021-01-13T21:24:17.394677",
     "status": "completed"
    },
    "tags": []
   },
   "outputs": [
    {
     "data": {
      "text/plain": [
       "0.11642098813435972"
      ]
     },
     "execution_count": 11,
     "metadata": {},
     "output_type": "execute_result"
    }
   ],
   "source": [
    "xgbr2 = xgb.XGBRegressor(colsample_bytree=0.25, gamma=0.0, learning_rate=0.1, max_depth=3,\n",
    "                         n_estimators=200, n_jobs=-1, random_state=42, reg_alpha=0.24206673672530965, \n",
    "                         reg_lambda=0.40464485640717085, subsample=1.0)\n",
    "\n",
    "rmse_cv(xgbr2)"
   ]
  },
  {
   "cell_type": "markdown",
   "metadata": {
    "papermill": {
     "duration": 0.0306,
     "end_time": "2021-01-13T21:24:23.881192",
     "exception": false,
     "start_time": "2021-01-13T21:24:23.850592",
     "status": "completed"
    },
    "tags": []
   },
   "source": [
    "This tuning process for XGBRegressor took 21 minutes.\n",
    "\n",
    "Remember, our default XGBRegressor model has 0.124411 RMSLE score.\n",
    "After the tuning, RMSLE score on local cv is 0.116420, and the score on leaderboard is 0.1236."
   ]
  },
  {
   "cell_type": "code",
   "execution_count": 12,
   "metadata": {
    "execution": {
     "iopub.execute_input": "2021-01-13T21:24:23.967789Z",
     "iopub.status.busy": "2021-01-13T21:24:23.965815Z",
     "iopub.status.idle": "2021-01-13T21:24:51.874057Z",
     "shell.execute_reply": "2021-01-13T21:24:51.873296Z"
    },
    "papermill": {
     "duration": 27.95953,
     "end_time": "2021-01-13T21:24:51.874204",
     "exception": false,
     "start_time": "2021-01-13T21:24:23.914674",
     "status": "completed"
    },
    "tags": []
   },
   "outputs": [
    {
     "data": {
      "text/plain": [
       "0.12331130948866256"
      ]
     },
     "execution_count": 12,
     "metadata": {},
     "output_type": "execute_result"
    }
   ],
   "source": [
    "gbr = GradientBoostingRegressor(n_estimators = 200, learning_rate = 0.1, loss = \"huber\", \n",
    "                                random_state = 42, n_iter_no_change = 20)\n",
    "\n",
    "rmse_cv(gbr)"
   ]
  },
  {
   "cell_type": "code",
   "execution_count": 13,
   "metadata": {
    "execution": {
     "iopub.execute_input": "2021-01-13T21:24:52.011345Z",
     "iopub.status.busy": "2021-01-13T21:24:52.010503Z",
     "iopub.status.idle": "2021-01-13T21:24:52.014514Z",
     "shell.execute_reply": "2021-01-13T21:24:52.013965Z"
    },
    "papermill": {
     "duration": 0.074856,
     "end_time": "2021-01-13T21:24:52.014628",
     "exception": false,
     "start_time": "2021-01-13T21:24:51.939772",
     "status": "completed"
    },
    "tags": []
   },
   "outputs": [],
   "source": [
    "# %%time\n",
    "# start = datetime.now()\n",
    "# print(start)\n",
    "\n",
    "# opt = BayesSearchCV(gbr,\n",
    "#                     {\n",
    "#                         \"max_depth\": Integer(3, 13),\n",
    "#                         \"max_features\": Real(0.1, 1, prior = \"log-uniform\"),\n",
    "#                         \"subsample\": Real(0.25, 1),\n",
    "#                         \"min_samples_split\": Integer(20, 120),\n",
    "#                         \"min_samples_leaf\": Integer(1, 10),\n",
    "#                         \"alpha\": Real(0.75, 0.95),\n",
    "#                         \"min_impurity_decrease\": Real(0, 0.5)\n",
    "#                     },\n",
    "#                     n_iter = 150,\n",
    "#                     cv = kf,\n",
    "#                     n_jobs = -1,\n",
    "#                     scoring = \"neg_root_mean_squared_error\",\n",
    "#                     random_state = 42\n",
    "#                    )\n",
    "\n",
    "\n",
    "# opt.fit(X_train, y_train, callback = on_step)\n",
    "\n",
    "\n",
    "# end = datetime.now()\n",
    "# print(end)\n",
    "\n",
    "# print(\"Best Score is: \", opt.best_score_, \"\\n\")\n",
    "\n",
    "# print(\"Best Parameters: \", opt.best_params_, \"\\n\")\n",
    "\n",
    "# gbr2 = opt.best_estimator_\n",
    "# gbr2"
   ]
  },
  {
   "cell_type": "code",
   "execution_count": 14,
   "metadata": {
    "execution": {
     "iopub.execute_input": "2021-01-13T21:24:52.112112Z",
     "iopub.status.busy": "2021-01-13T21:24:52.110461Z",
     "iopub.status.idle": "2021-01-13T21:25:15.459386Z",
     "shell.execute_reply": "2021-01-13T21:25:15.458718Z"
    },
    "papermill": {
     "duration": 23.400721,
     "end_time": "2021-01-13T21:25:15.459497",
     "exception": false,
     "start_time": "2021-01-13T21:24:52.058776",
     "status": "completed"
    },
    "tags": []
   },
   "outputs": [
    {
     "data": {
      "text/plain": [
       "0.11835717290151222"
      ]
     },
     "execution_count": 14,
     "metadata": {},
     "output_type": "execute_result"
    }
   ],
   "source": [
    "gbr2 = GradientBoostingRegressor(alpha=0.8979588317644014, loss='huber', max_depth=13,\n",
    "                                 max_features=0.1, min_samples_split=109,\n",
    "                                 n_estimators=200, n_iter_no_change=20,\n",
    "                                 random_state=42)\n",
    "rmse_cv(gbr2)"
   ]
  },
  {
   "cell_type": "markdown",
   "metadata": {
    "papermill": {
     "duration": 0.043767,
     "end_time": "2021-01-13T21:25:15.549122",
     "exception": false,
     "start_time": "2021-01-13T21:25:15.505355",
     "status": "completed"
    },
    "tags": []
   },
   "source": [
    "This tuning process for GradientBoostingRegressor took 18 minutes.\n",
    "\n",
    "Remember, our default GradientBoostingRegressor model has 0.123311 RMSLE score.\n",
    "After the tuning, RMSLE score on local cv is 0.118357, and the score on leaderboard is 0.1228."
   ]
  },
  {
   "cell_type": "code",
   "execution_count": 15,
   "metadata": {
    "execution": {
     "iopub.execute_input": "2021-01-13T21:25:15.645054Z",
     "iopub.status.busy": "2021-01-13T21:25:15.644379Z",
     "iopub.status.idle": "2021-01-13T21:25:17.853317Z",
     "shell.execute_reply": "2021-01-13T21:25:17.852405Z"
    },
    "papermill": {
     "duration": 2.260124,
     "end_time": "2021-01-13T21:25:17.853468",
     "exception": false,
     "start_time": "2021-01-13T21:25:15.593344",
     "status": "completed"
    },
    "tags": []
   },
   "outputs": [
    {
     "data": {
      "text/plain": [
       "0.13025558077628668"
      ]
     },
     "execution_count": 15,
     "metadata": {},
     "output_type": "execute_result"
    }
   ],
   "source": [
    "svr = SVR(max_iter = 15000)\n",
    "\n",
    "rmse_cv(svr)"
   ]
  },
  {
   "cell_type": "code",
   "execution_count": 16,
   "metadata": {
    "execution": {
     "iopub.execute_input": "2021-01-13T21:25:17.992561Z",
     "iopub.status.busy": "2021-01-13T21:25:17.991769Z",
     "iopub.status.idle": "2021-01-13T21:25:17.994502Z",
     "shell.execute_reply": "2021-01-13T21:25:17.993905Z"
    },
    "papermill": {
     "duration": 0.074266,
     "end_time": "2021-01-13T21:25:17.994603",
     "exception": false,
     "start_time": "2021-01-13T21:25:17.920337",
     "status": "completed"
    },
    "tags": []
   },
   "outputs": [],
   "source": [
    "# %%time\n",
    "# start = datetime.now()\n",
    "# print(start)\n",
    "\n",
    "# opt = BayesSearchCV(svr, \n",
    "#                     {\n",
    "#                         \"kernel\": Categorical([\"linear\", \"poly\", \"rbf\"]),\n",
    "#                         \"degree\": Integer(2, 4),\n",
    "#                         \"gamma\": Real(1e-4, 0.1, prior = \"log-uniform\"),\n",
    "#                         \"C\": Real(1e-4, 10,  prior = \"log-uniform\"),\n",
    "#                         \"epsilon\": Real(1e-4, 0.1, prior = \"log-uniform\"),\n",
    "#                         \"coef0\": Real(1e-4, 10, prior = \"log-uniform\"),\n",
    "#                     },\n",
    "#                     n_iter = 150,\n",
    "#                     cv = kf,\n",
    "#                     n_jobs = -1,\n",
    "#                     scoring = \"neg_root_mean_squared_error\",\n",
    "#                     random_state = 42\n",
    "#                    )\n",
    "\n",
    "\n",
    "# opt.fit(X_train, y_train, callback = on_step)\n",
    "\n",
    "\n",
    "# end = datetime.now()\n",
    "# print(end)\n",
    "\n",
    "# print(\"Best Score is: \", opt.best_score_, \"\\n\")\n",
    "\n",
    "# print(\"Best Parameters: \", opt.best_params_, \"\\n\")\n",
    "\n",
    "# svr2 = opt.best_estimator_\n",
    "# svr2"
   ]
  },
  {
   "cell_type": "code",
   "execution_count": 17,
   "metadata": {
    "execution": {
     "iopub.execute_input": "2021-01-13T21:25:18.095274Z",
     "iopub.status.busy": "2021-01-13T21:25:18.094801Z",
     "iopub.status.idle": "2021-01-13T21:25:23.275010Z",
     "shell.execute_reply": "2021-01-13T21:25:23.275492Z"
    },
    "papermill": {
     "duration": 5.233548,
     "end_time": "2021-01-13T21:25:23.275635",
     "exception": false,
     "start_time": "2021-01-13T21:25:18.042087",
     "status": "completed"
    },
    "tags": []
   },
   "outputs": [
    {
     "data": {
      "text/plain": [
       "0.11564674136937295"
      ]
     },
     "execution_count": 17,
     "metadata": {},
     "output_type": "execute_result"
    }
   ],
   "source": [
    "svr2 = SVR(C=0.7682824405204463, coef0=0.0001, degree=2, epsilon=0.0001,\n",
    "           gamma=0.0042151786393578635, max_iter=15000)\n",
    "\n",
    "rmse_cv(svr2)"
   ]
  },
  {
   "cell_type": "markdown",
   "metadata": {
    "papermill": {
     "duration": 0.045623,
     "end_time": "2021-01-13T21:25:23.367768",
     "exception": false,
     "start_time": "2021-01-13T21:25:23.322145",
     "status": "completed"
    },
    "tags": []
   },
   "source": [
    "This tuning process for SVR regression took 15 minutes.\n",
    "\n",
    "Remember, our default SVR regression model has 0.130255 RMSLE score.\n",
    "After the tuning, RMSLE score on local cv is 0.115646, and the score on leaderboard is 0.1226."
   ]
  },
  {
   "cell_type": "code",
   "execution_count": 18,
   "metadata": {
    "execution": {
     "iopub.execute_input": "2021-01-13T21:25:23.464333Z",
     "iopub.status.busy": "2021-01-13T21:25:23.463669Z",
     "iopub.status.idle": "2021-01-13T21:25:23.516009Z",
     "shell.execute_reply": "2021-01-13T21:25:23.515219Z"
    },
    "papermill": {
     "duration": 0.102827,
     "end_time": "2021-01-13T21:25:23.516140",
     "exception": false,
     "start_time": "2021-01-13T21:25:23.413313",
     "status": "completed"
    },
    "tags": []
   },
   "outputs": [
    {
     "data": {
      "text/plain": [
       "0.3980572321407768"
      ]
     },
     "execution_count": 18,
     "metadata": {},
     "output_type": "execute_result"
    }
   ],
   "source": [
    "lasso = Lasso(random_state = 42, max_iter = 5000)\n",
    "\n",
    "rmse_cv(lasso)"
   ]
  },
  {
   "cell_type": "code",
   "execution_count": 19,
   "metadata": {
    "execution": {
     "iopub.execute_input": "2021-01-13T21:25:23.658101Z",
     "iopub.status.busy": "2021-01-13T21:25:23.657246Z",
     "iopub.status.idle": "2021-01-13T21:25:23.660837Z",
     "shell.execute_reply": "2021-01-13T21:25:23.661467Z"
    },
    "papermill": {
     "duration": 0.076692,
     "end_time": "2021-01-13T21:25:23.661592",
     "exception": false,
     "start_time": "2021-01-13T21:25:23.584900",
     "status": "completed"
    },
    "tags": []
   },
   "outputs": [],
   "source": [
    "# %%time\n",
    "# start = datetime.now()\n",
    "# print(start)\n",
    "\n",
    "# opt = BayesSearchCV(lasso, \n",
    "#                     {\n",
    "#                         \"alpha\": Real(1e-4, 100, prior = \"log-uniform\")\n",
    "#                     },\n",
    "#                     n_iter = 100,\n",
    "#                     cv = kf,\n",
    "#                     n_jobs = -1,\n",
    "#                     scoring = \"neg_root_mean_squared_error\",\n",
    "#                     random_state = 42\n",
    "#                    )\n",
    "\n",
    "# opt.fit(X_train, y_train, callback = on_step)\n",
    "\n",
    "\n",
    "# end = datetime.now()\n",
    "# print(end)\n",
    "\n",
    "# print(\"Best Score is: \", opt.best_score_, \"\\n\")\n",
    "\n",
    "# print(\"Best Parameters: \", opt.best_params_, \"\\n\")\n",
    "\n",
    "# lasso2 = opt.best_estimator_\n",
    "# lasso2"
   ]
  },
  {
   "cell_type": "code",
   "execution_count": 20,
   "metadata": {
    "execution": {
     "iopub.execute_input": "2021-01-13T21:25:23.755152Z",
     "iopub.status.busy": "2021-01-13T21:25:23.754522Z",
     "iopub.status.idle": "2021-01-13T21:25:28.756024Z",
     "shell.execute_reply": "2021-01-13T21:25:28.755399Z"
    },
    "papermill": {
     "duration": 5.04956,
     "end_time": "2021-01-13T21:25:28.756139",
     "exception": false,
     "start_time": "2021-01-13T21:25:23.706579",
     "status": "completed"
    },
    "tags": []
   },
   "outputs": [
    {
     "data": {
      "text/plain": [
       "0.122355450899966"
      ]
     },
     "execution_count": 20,
     "metadata": {},
     "output_type": "execute_result"
    }
   ],
   "source": [
    "lasso2 = Lasso(alpha=0.00012609086150256233, max_iter=5000, random_state=42)\n",
    "\n",
    "rmse_cv(lasso2)"
   ]
  },
  {
   "cell_type": "markdown",
   "metadata": {
    "papermill": {
     "duration": 0.048523,
     "end_time": "2021-01-13T21:25:28.850288",
     "exception": false,
     "start_time": "2021-01-13T21:25:28.801765",
     "status": "completed"
    },
    "tags": []
   },
   "source": [
    "This tuning process for Lasso regression took 5 minutes.\n",
    "\n",
    "Remember, our default Lasso regression model has 0.3980 RMSLE score.\n",
    "After the tuning, RMSLE score on local cv is 0.122355, and the score on leaderboard is 0.1278."
   ]
  },
  {
   "cell_type": "code",
   "execution_count": 21,
   "metadata": {
    "execution": {
     "iopub.execute_input": "2021-01-13T21:25:28.948271Z",
     "iopub.status.busy": "2021-01-13T21:25:28.947496Z",
     "iopub.status.idle": "2021-01-13T21:25:29.077748Z",
     "shell.execute_reply": "2021-01-13T21:25:29.077083Z"
    },
    "papermill": {
     "duration": 0.181515,
     "end_time": "2021-01-13T21:25:29.077887",
     "exception": false,
     "start_time": "2021-01-13T21:25:28.896372",
     "status": "completed"
    },
    "tags": []
   },
   "outputs": [
    {
     "data": {
      "text/plain": [
       "0.12304913866117542"
      ]
     },
     "execution_count": 21,
     "metadata": {},
     "output_type": "execute_result"
    }
   ],
   "source": [
    "ridge = Ridge(random_state = 42, max_iter = 5000)\n",
    "\n",
    "rmse_cv(ridge)"
   ]
  },
  {
   "cell_type": "code",
   "execution_count": 22,
   "metadata": {
    "execution": {
     "iopub.execute_input": "2021-01-13T21:25:29.177831Z",
     "iopub.status.busy": "2021-01-13T21:25:29.176906Z",
     "iopub.status.idle": "2021-01-13T21:25:29.180726Z",
     "shell.execute_reply": "2021-01-13T21:25:29.181310Z"
    },
    "papermill": {
     "duration": 0.057341,
     "end_time": "2021-01-13T21:25:29.181476",
     "exception": false,
     "start_time": "2021-01-13T21:25:29.124135",
     "status": "completed"
    },
    "tags": []
   },
   "outputs": [],
   "source": [
    "# %%time\n",
    "# start = datetime.now()\n",
    "# print(start)\n",
    "\n",
    "# opt = BayesSearchCV(ridge, \n",
    "#                     {\n",
    "#                         \"alpha\": Real(1e-4, 100, prior = \"log-uniform\")\n",
    "#                     },\n",
    "#                     n_iter = 100,\n",
    "#                     cv = kf,\n",
    "#                     n_jobs = -1,\n",
    "#                     scoring = \"neg_root_mean_squared_error\",\n",
    "#                     random_state = 42\n",
    "#                    )\n",
    "\n",
    "# opt.fit(X_train, y_train, callback = on_step)\n",
    "\n",
    "\n",
    "# end = datetime.now()\n",
    "# print(end)\n",
    "\n",
    "# print(\"Best Score is: \", opt.best_score_, \"\\n\")\n",
    "\n",
    "# print(\"Best Parameters: \", opt.best_params_, \"\\n\")\n",
    "\n",
    "# ridge2 = opt.best_estimator_\n",
    "# ridge2"
   ]
  },
  {
   "cell_type": "code",
   "execution_count": 23,
   "metadata": {
    "execution": {
     "iopub.execute_input": "2021-01-13T21:25:29.278306Z",
     "iopub.status.busy": "2021-01-13T21:25:29.277335Z",
     "iopub.status.idle": "2021-01-13T21:25:29.347145Z",
     "shell.execute_reply": "2021-01-13T21:25:29.347772Z"
    },
    "papermill": {
     "duration": 0.119747,
     "end_time": "2021-01-13T21:25:29.347937",
     "exception": false,
     "start_time": "2021-01-13T21:25:29.228190",
     "status": "completed"
    },
    "tags": []
   },
   "outputs": [
    {
     "data": {
      "text/plain": [
       "0.12284056974454602"
      ]
     },
     "execution_count": 23,
     "metadata": {},
     "output_type": "execute_result"
    }
   ],
   "source": [
    "ridge2 = Ridge(alpha=2.651347536470113, max_iter=5000, random_state=42)\n",
    "\n",
    "rmse_cv(ridge2)"
   ]
  },
  {
   "cell_type": "markdown",
   "metadata": {
    "papermill": {
     "duration": 0.046996,
     "end_time": "2021-01-13T21:25:29.442423",
     "exception": false,
     "start_time": "2021-01-13T21:25:29.395427",
     "status": "completed"
    },
    "tags": []
   },
   "source": [
    "This tuning process for Ridge regression took 2 minutes.\n",
    "\n",
    "Remember, our default Ridge regression model has 0.123049 RMSLE score.\n",
    "After the tuning, RMSLE score on local cv is 0.122840, and the score on leaderboard is 0.1266."
   ]
  },
  {
   "cell_type": "code",
   "execution_count": 24,
   "metadata": {
    "execution": {
     "iopub.execute_input": "2021-01-13T21:25:29.544573Z",
     "iopub.status.busy": "2021-01-13T21:25:29.543943Z",
     "iopub.status.idle": "2021-01-13T21:25:29.584145Z",
     "shell.execute_reply": "2021-01-13T21:25:29.583518Z"
    },
    "papermill": {
     "duration": 0.09377,
     "end_time": "2021-01-13T21:25:29.584262",
     "exception": false,
     "start_time": "2021-01-13T21:25:29.490492",
     "status": "completed"
    },
    "tags": []
   },
   "outputs": [
    {
     "data": {
      "text/plain": [
       "0.3980572321407768"
      ]
     },
     "execution_count": 24,
     "metadata": {},
     "output_type": "execute_result"
    }
   ],
   "source": [
    "enet = ElasticNet(random_state = 42, max_iter = 5000)\n",
    "\n",
    "rmse_cv(enet)"
   ]
  },
  {
   "cell_type": "code",
   "execution_count": 25,
   "metadata": {
    "execution": {
     "iopub.execute_input": "2021-01-13T21:25:29.688997Z",
     "iopub.status.busy": "2021-01-13T21:25:29.688262Z",
     "iopub.status.idle": "2021-01-13T21:25:29.692810Z",
     "shell.execute_reply": "2021-01-13T21:25:29.692259Z"
    },
    "papermill": {
     "duration": 0.060587,
     "end_time": "2021-01-13T21:25:29.692943",
     "exception": false,
     "start_time": "2021-01-13T21:25:29.632356",
     "status": "completed"
    },
    "tags": []
   },
   "outputs": [],
   "source": [
    "# %%time\n",
    "# start = datetime.now()\n",
    "# print(start)\n",
    "\n",
    "# opt = BayesSearchCV(enet, \n",
    "#                     {\n",
    "#                         \"alpha\": Real(1e-4, 100, prior = \"log-uniform\"),\n",
    "#                         \"l1_ratio\": Real(1e-4, 100, prior = \"log-uniform\")\n",
    "#                     },\n",
    "#                     n_iter = 100,\n",
    "#                     cv = kf,\n",
    "#                     n_jobs = -1,\n",
    "#                     scoring = \"neg_root_mean_squared_error\",\n",
    "#                     random_state = 42\n",
    "#                    )\n",
    "\n",
    "# opt.fit(X_train, y_train, callback = on_step)\n",
    "\n",
    "\n",
    "# end = datetime.now()\n",
    "# print(end)\n",
    "\n",
    "# print(\"Best Score is: \", opt.best_score_, \"\\n\")\n",
    "\n",
    "# enet2 = opt.best_estimator_\n",
    "# enet2"
   ]
  },
  {
   "cell_type": "code",
   "execution_count": 26,
   "metadata": {
    "execution": {
     "iopub.execute_input": "2021-01-13T21:25:29.796510Z",
     "iopub.status.busy": "2021-01-13T21:25:29.795834Z",
     "iopub.status.idle": "2021-01-13T21:25:33.461781Z",
     "shell.execute_reply": "2021-01-13T21:25:33.461164Z"
    },
    "papermill": {
     "duration": 3.720859,
     "end_time": "2021-01-13T21:25:33.461928",
     "exception": false,
     "start_time": "2021-01-13T21:25:29.741069",
     "status": "completed"
    },
    "tags": []
   },
   "outputs": [
    {
     "data": {
      "text/plain": [
       "0.12240435140496686"
      ]
     },
     "execution_count": 26,
     "metadata": {},
     "output_type": "execute_result"
    }
   ],
   "source": [
    "enet2 = ElasticNet(alpha=0.0002286518512853544, l1_ratio=0.6510386358323069, max_iter=5000, random_state=42)\n",
    "\n",
    "rmse_cv(enet2)"
   ]
  },
  {
   "cell_type": "markdown",
   "metadata": {
    "papermill": {
     "duration": 0.05316,
     "end_time": "2021-01-13T21:25:33.572817",
     "exception": false,
     "start_time": "2021-01-13T21:25:33.519657",
     "status": "completed"
    },
    "tags": []
   },
   "source": [
    "This tuning process for ElasticNet regression took 5 minutes.\n",
    "\n",
    "Remember, our default Ridge regression model has 0.3980 RMSLE score.\n",
    "After the tuning, RMSLE score on local cv is 0.1224043, and the score on leaderboard is 0.1273."
   ]
  },
  {
   "cell_type": "markdown",
   "metadata": {
    "papermill": {
     "duration": 0.052119,
     "end_time": "2021-01-13T21:25:33.678065",
     "exception": false,
     "start_time": "2021-01-13T21:25:33.625946",
     "status": "completed"
    },
    "tags": []
   },
   "source": [
    "For boosting models, I just increase the n_estimators parameters 200 to 10000. This is a boosting parameter, number of boosting rounds. You will set early_stopping_rounds in fit parameters for lightgbm and xgboost, and \"n_iter_no_change\" parameter that you define in GradientBoosting model. For that reason, you can set n_estimators to higher number.\n",
    "\n",
    "I decrease learning_rate from 0.1 to 0.01."
   ]
  },
  {
   "cell_type": "code",
   "execution_count": 27,
   "metadata": {
    "execution": {
     "iopub.execute_input": "2021-01-13T21:25:33.789384Z",
     "iopub.status.busy": "2021-01-13T21:25:33.788627Z",
     "iopub.status.idle": "2021-01-13T21:25:33.794416Z",
     "shell.execute_reply": "2021-01-13T21:25:33.795162Z"
    },
    "papermill": {
     "duration": 0.064964,
     "end_time": "2021-01-13T21:25:33.795364",
     "exception": false,
     "start_time": "2021-01-13T21:25:33.730400",
     "status": "completed"
    },
    "tags": []
   },
   "outputs": [],
   "source": [
    "lgb_model = lgb.LGBMRegressor(colsample_bytree=0.25, learning_rate=0.01,\n",
    "                              max_depth=13, min_child_samples=7, n_estimators=10000,\n",
    "                              num_leaves=20, objective='regression', random_state=42,\n",
    "                              subsample=0.9330025956033094, subsample_freq=1)\n",
    "\n",
    "xgb_model = xgb.XGBRegressor(colsample_bytree=0.25, gamma=0.0, learning_rate=0.01, max_depth=3,\n",
    "                             n_estimators=10000, n_jobs=-1, random_state=42, \n",
    "                             reg_alpha=0.24206673672530965, reg_lambda=0.40464485640717085, subsample=1.0)\n",
    "\n",
    "gbr_model = GradientBoostingRegressor(alpha=0.8979588317644014,\n",
    "                                      learning_rate=0.01, loss='huber',\n",
    "                                      max_depth=13, max_features=0.1, min_samples_split=109,\n",
    "                                      n_estimators=10000, n_iter_no_change=100, random_state=42)\n",
    "\n",
    "svr_model = SVR(C=0.7682824405204463, coef0=0.0001, degree=2, epsilon=0.0001, gamma=0.0042151786393578635, max_iter=10000)\n",
    "\n",
    "lasso_model = Lasso(alpha=0.00012609086150256233, max_iter=5000, random_state=42)\n",
    "\n",
    "ridge_model = Ridge(alpha=2.651347536470113, max_iter=5000, random_state=42)\n",
    "\n",
    "enet_model = ElasticNet(alpha=0.0002286518512853544, l1_ratio=0.6510386358323069, max_iter=5000, random_state=42)"
   ]
  },
  {
   "cell_type": "code",
   "execution_count": 28,
   "metadata": {
    "execution": {
     "iopub.execute_input": "2021-01-13T21:25:33.950338Z",
     "iopub.status.busy": "2021-01-13T21:25:33.949298Z",
     "iopub.status.idle": "2021-01-13T21:25:33.955823Z",
     "shell.execute_reply": "2021-01-13T21:25:33.954384Z"
    },
    "papermill": {
     "duration": 0.084451,
     "end_time": "2021-01-13T21:25:33.956024",
     "exception": false,
     "start_time": "2021-01-13T21:25:33.871573",
     "status": "completed"
    },
    "tags": []
   },
   "outputs": [],
   "source": [
    "# rmse_cv(lgb_model)\n",
    "# 0.11686439891203042"
   ]
  },
  {
   "cell_type": "code",
   "execution_count": 29,
   "metadata": {
    "execution": {
     "iopub.execute_input": "2021-01-13T21:25:34.113702Z",
     "iopub.status.busy": "2021-01-13T21:25:34.112837Z",
     "iopub.status.idle": "2021-01-13T21:25:34.116768Z",
     "shell.execute_reply": "2021-01-13T21:25:34.116139Z"
    },
    "papermill": {
     "duration": 0.084112,
     "end_time": "2021-01-13T21:25:34.116902",
     "exception": false,
     "start_time": "2021-01-13T21:25:34.032790",
     "status": "completed"
    },
    "tags": []
   },
   "outputs": [],
   "source": [
    "# rmse_cv(xgb_model)\n",
    "# 0.11479692696444313"
   ]
  },
  {
   "cell_type": "code",
   "execution_count": 30,
   "metadata": {
    "execution": {
     "iopub.execute_input": "2021-01-13T21:25:34.228832Z",
     "iopub.status.busy": "2021-01-13T21:25:34.228110Z",
     "iopub.status.idle": "2021-01-13T21:25:34.232417Z",
     "shell.execute_reply": "2021-01-13T21:25:34.231750Z"
    },
    "papermill": {
     "duration": 0.057527,
     "end_time": "2021-01-13T21:25:34.232519",
     "exception": false,
     "start_time": "2021-01-13T21:25:34.174992",
     "status": "completed"
    },
    "tags": []
   },
   "outputs": [],
   "source": [
    "# rmse_cv(gbr_model)\n",
    "# 0.11698399499241512"
   ]
  },
  {
   "cell_type": "markdown",
   "metadata": {
    "papermill": {
     "duration": 0.052127,
     "end_time": "2021-01-13T21:25:34.334567",
     "exception": false,
     "start_time": "2021-01-13T21:25:34.282440",
     "status": "completed"
    },
    "tags": []
   },
   "source": [
    "# OOF Predictions"
   ]
  },
  {
   "cell_type": "code",
   "execution_count": 31,
   "metadata": {
    "execution": {
     "iopub.execute_input": "2021-01-13T21:25:34.445870Z",
     "iopub.status.busy": "2021-01-13T21:25:34.444917Z",
     "iopub.status.idle": "2021-01-13T21:31:37.741999Z",
     "shell.execute_reply": "2021-01-13T21:31:37.742643Z"
    },
    "papermill": {
     "duration": 363.358924,
     "end_time": "2021-01-13T21:31:37.742817",
     "exception": false,
     "start_time": "2021-01-13T21:25:34.383893",
     "status": "completed"
    },
    "tags": []
   },
   "outputs": [
    {
     "name": "stdout",
     "output_type": "stream",
     "text": [
      "For model  LGBMRegressor \n",
      "\n",
      "Out of fold predictions generating for fold  1\n",
      "Out of fold predictions generating for fold  2\n",
      "Out of fold predictions generating for fold  3\n",
      "Out of fold predictions generating for fold  4\n",
      "Out of fold predictions generating for fold  5\n",
      "Out of fold predictions generating for fold  6\n",
      "Out of fold predictions generating for fold  7\n",
      "Out of fold predictions generating for fold  8\n",
      "Out of fold predictions generating for fold  9\n",
      "Out of fold predictions generating for fold  10\n",
      "\n",
      "Done \n",
      "\n",
      "For model  XGBRegressor \n",
      "\n",
      "Out of fold predictions generating for fold  1\n",
      "Out of fold predictions generating for fold  2\n",
      "Out of fold predictions generating for fold  3\n",
      "Out of fold predictions generating for fold  4\n",
      "Out of fold predictions generating for fold  5\n",
      "Out of fold predictions generating for fold  6\n",
      "Out of fold predictions generating for fold  7\n",
      "Out of fold predictions generating for fold  8\n",
      "Out of fold predictions generating for fold  9\n",
      "Out of fold predictions generating for fold  10\n",
      "\n",
      "Done \n",
      "\n",
      "For model  GradientBoostingRegressor \n",
      "\n",
      "Out of fold predictions generating for fold  1\n",
      "Out of fold predictions generating for fold  2\n",
      "Out of fold predictions generating for fold  3\n",
      "Out of fold predictions generating for fold  4\n",
      "Out of fold predictions generating for fold  5\n",
      "Out of fold predictions generating for fold  6\n",
      "Out of fold predictions generating for fold  7\n",
      "Out of fold predictions generating for fold  8\n",
      "Out of fold predictions generating for fold  9\n",
      "Out of fold predictions generating for fold  10\n",
      "\n",
      "Done \n",
      "\n",
      "For model  SVR \n",
      "\n",
      "Out of fold predictions generating for fold  1\n",
      "Out of fold predictions generating for fold  2\n",
      "Out of fold predictions generating for fold  3\n",
      "Out of fold predictions generating for fold  4\n",
      "Out of fold predictions generating for fold  5\n",
      "Out of fold predictions generating for fold  6\n",
      "Out of fold predictions generating for fold  7\n",
      "Out of fold predictions generating for fold  8\n",
      "Out of fold predictions generating for fold  9\n",
      "Out of fold predictions generating for fold  10\n",
      "\n",
      "Done \n",
      "\n",
      "For model  Lasso \n",
      "\n",
      "Out of fold predictions generating for fold  1\n",
      "Out of fold predictions generating for fold  2\n",
      "Out of fold predictions generating for fold  3\n",
      "Out of fold predictions generating for fold  4\n",
      "Out of fold predictions generating for fold  5\n",
      "Out of fold predictions generating for fold  6\n",
      "Out of fold predictions generating for fold  7\n",
      "Out of fold predictions generating for fold  8\n",
      "Out of fold predictions generating for fold  9\n",
      "Out of fold predictions generating for fold  10\n",
      "\n",
      "Done \n",
      "\n",
      "For model  Ridge \n",
      "\n",
      "Out of fold predictions generating for fold  1\n",
      "Out of fold predictions generating for fold  2\n",
      "Out of fold predictions generating for fold  3\n",
      "Out of fold predictions generating for fold  4\n",
      "Out of fold predictions generating for fold  5\n",
      "Out of fold predictions generating for fold  6\n",
      "Out of fold predictions generating for fold  7\n",
      "Out of fold predictions generating for fold  8\n",
      "Out of fold predictions generating for fold  9\n",
      "Out of fold predictions generating for fold  10\n",
      "\n",
      "Done \n",
      "\n",
      "CPU times: user 6min 2s, sys: 316 ms, total: 6min 3s\n",
      "Wall time: 6min 3s\n"
     ]
    }
   ],
   "source": [
    "%%time\n",
    "models = {\n",
    "    \"LGBMRegressor\": lgb_model,\n",
    "    \"XGBRegressor\": xgb_model,\n",
    "    \"GradientBoostingRegressor\": gbr_model,\n",
    "    \"SVR\": svr_model,\n",
    "    \"Lasso\": lasso_model,\n",
    "    \"Ridge\": ridge_model,\n",
    "#     \"ElasticNet\": enet_model,\n",
    "         }\n",
    "\n",
    "oof_df = pd.DataFrame()\n",
    "predictions_df = pd.DataFrame()\n",
    "\n",
    "\n",
    "for name, model in models.items():\n",
    "    \n",
    "    print(\"For model \", name, \"\\n\")\n",
    "    i = 1\n",
    "    oof = np.zeros(len(X_train))\n",
    "    predictions = np.zeros(len(X_test))\n",
    "    \n",
    "    for train_ix, test_ix in kf.split(X_train):\n",
    "        \n",
    "        print(\"Out of fold predictions generating for fold \", i)\n",
    "        \n",
    "        train_X, train_y = X_train[train_ix], y_train[train_ix]\n",
    "        test_X, test_y = X_train[test_ix], y_train[test_ix]\n",
    "        \n",
    "        if name == \"LGBMRegressor\":\n",
    "            model.fit(train_X, train_y,\n",
    "                      eval_set = [(test_X, test_y)],\n",
    "                      eval_metric = \"rmse\",\n",
    "                      early_stopping_rounds=200,\n",
    "                      verbose=0)\n",
    "            \n",
    "        elif name == \"XGBRegressor\":\n",
    "            model.fit(train_X, train_y,\n",
    "                      eval_set = [(test_X, test_y)],\n",
    "                      eval_metric = \"rmse\",\n",
    "                      early_stopping_rounds=250,\n",
    "                      verbose=0)\n",
    "        else:\n",
    "            model.fit(train_X, train_y)\n",
    "            \n",
    "        oof[test_ix] = oof[test_ix] + model.predict(X_train[test_ix])\n",
    "        predictions = predictions + model.predict(X_test)\n",
    "        \n",
    "        i = i + 1\n",
    "        \n",
    "        oof_df[name] = oof\n",
    "        predictions_df[name] = predictions / 10\n",
    "        \n",
    "        \n",
    "    print(\"\\nDone \\n\")"
   ]
  },
  {
   "cell_type": "code",
   "execution_count": 32,
   "metadata": {
    "execution": {
     "iopub.execute_input": "2021-01-13T21:31:37.945045Z",
     "iopub.status.busy": "2021-01-13T21:31:37.942108Z",
     "iopub.status.idle": "2021-01-13T21:31:37.959616Z",
     "shell.execute_reply": "2021-01-13T21:31:37.958955Z"
    },
    "papermill": {
     "duration": 0.113693,
     "end_time": "2021-01-13T21:31:37.959723",
     "exception": false,
     "start_time": "2021-01-13T21:31:37.846030",
     "status": "completed"
    },
    "tags": []
   },
   "outputs": [
    {
     "data": {
      "text/html": [
       "<div>\n",
       "<style scoped>\n",
       "    .dataframe tbody tr th:only-of-type {\n",
       "        vertical-align: middle;\n",
       "    }\n",
       "\n",
       "    .dataframe tbody tr th {\n",
       "        vertical-align: top;\n",
       "    }\n",
       "\n",
       "    .dataframe thead th {\n",
       "        text-align: right;\n",
       "    }\n",
       "</style>\n",
       "<table border=\"1\" class=\"dataframe\">\n",
       "  <thead>\n",
       "    <tr style=\"text-align: right;\">\n",
       "      <th></th>\n",
       "      <th>LGBMRegressor</th>\n",
       "      <th>XGBRegressor</th>\n",
       "      <th>GradientBoostingRegressor</th>\n",
       "      <th>SVR</th>\n",
       "      <th>Lasso</th>\n",
       "      <th>Ridge</th>\n",
       "    </tr>\n",
       "  </thead>\n",
       "  <tbody>\n",
       "    <tr>\n",
       "      <th>0</th>\n",
       "      <td>11.748541</td>\n",
       "      <td>11.762736</td>\n",
       "      <td>11.751305</td>\n",
       "      <td>11.717839</td>\n",
       "      <td>11.657140</td>\n",
       "      <td>11.650488</td>\n",
       "    </tr>\n",
       "    <tr>\n",
       "      <th>1</th>\n",
       "      <td>11.988315</td>\n",
       "      <td>11.996193</td>\n",
       "      <td>11.998019</td>\n",
       "      <td>12.011693</td>\n",
       "      <td>12.008598</td>\n",
       "      <td>11.992237</td>\n",
       "    </tr>\n",
       "    <tr>\n",
       "      <th>2</th>\n",
       "      <td>12.107837</td>\n",
       "      <td>12.109984</td>\n",
       "      <td>12.128069</td>\n",
       "      <td>12.154825</td>\n",
       "      <td>12.137422</td>\n",
       "      <td>12.133347</td>\n",
       "    </tr>\n",
       "    <tr>\n",
       "      <th>3</th>\n",
       "      <td>12.180335</td>\n",
       "      <td>12.198591</td>\n",
       "      <td>12.167821</td>\n",
       "      <td>12.233828</td>\n",
       "      <td>12.218998</td>\n",
       "      <td>12.221573</td>\n",
       "    </tr>\n",
       "    <tr>\n",
       "      <th>4</th>\n",
       "      <td>12.146219</td>\n",
       "      <td>12.128007</td>\n",
       "      <td>12.159422</td>\n",
       "      <td>12.161629</td>\n",
       "      <td>12.185252</td>\n",
       "      <td>12.187210</td>\n",
       "    </tr>\n",
       "    <tr>\n",
       "      <th>...</th>\n",
       "      <td>...</td>\n",
       "      <td>...</td>\n",
       "      <td>...</td>\n",
       "      <td>...</td>\n",
       "      <td>...</td>\n",
       "      <td>...</td>\n",
       "    </tr>\n",
       "    <tr>\n",
       "      <th>1454</th>\n",
       "      <td>11.316778</td>\n",
       "      <td>11.336552</td>\n",
       "      <td>11.323174</td>\n",
       "      <td>11.441505</td>\n",
       "      <td>11.375150</td>\n",
       "      <td>11.370010</td>\n",
       "    </tr>\n",
       "    <tr>\n",
       "      <th>1455</th>\n",
       "      <td>11.315574</td>\n",
       "      <td>11.331060</td>\n",
       "      <td>11.331213</td>\n",
       "      <td>11.360464</td>\n",
       "      <td>11.303356</td>\n",
       "      <td>11.285439</td>\n",
       "    </tr>\n",
       "    <tr>\n",
       "      <th>1456</th>\n",
       "      <td>11.986408</td>\n",
       "      <td>12.006536</td>\n",
       "      <td>12.023309</td>\n",
       "      <td>12.034027</td>\n",
       "      <td>11.976249</td>\n",
       "      <td>11.959039</td>\n",
       "    </tr>\n",
       "    <tr>\n",
       "      <th>1457</th>\n",
       "      <td>11.673435</td>\n",
       "      <td>11.679955</td>\n",
       "      <td>11.662022</td>\n",
       "      <td>11.641669</td>\n",
       "      <td>11.747630</td>\n",
       "      <td>11.744732</td>\n",
       "    </tr>\n",
       "    <tr>\n",
       "      <th>1458</th>\n",
       "      <td>12.272109</td>\n",
       "      <td>12.246669</td>\n",
       "      <td>12.245233</td>\n",
       "      <td>12.289648</td>\n",
       "      <td>12.288592</td>\n",
       "      <td>12.276697</td>\n",
       "    </tr>\n",
       "  </tbody>\n",
       "</table>\n",
       "<p>1459 rows × 6 columns</p>\n",
       "</div>"
      ],
      "text/plain": [
       "      LGBMRegressor  XGBRegressor  GradientBoostingRegressor        SVR  \\\n",
       "0         11.748541     11.762736                  11.751305  11.717839   \n",
       "1         11.988315     11.996193                  11.998019  12.011693   \n",
       "2         12.107837     12.109984                  12.128069  12.154825   \n",
       "3         12.180335     12.198591                  12.167821  12.233828   \n",
       "4         12.146219     12.128007                  12.159422  12.161629   \n",
       "...             ...           ...                        ...        ...   \n",
       "1454      11.316778     11.336552                  11.323174  11.441505   \n",
       "1455      11.315574     11.331060                  11.331213  11.360464   \n",
       "1456      11.986408     12.006536                  12.023309  12.034027   \n",
       "1457      11.673435     11.679955                  11.662022  11.641669   \n",
       "1458      12.272109     12.246669                  12.245233  12.289648   \n",
       "\n",
       "          Lasso      Ridge  \n",
       "0     11.657140  11.650488  \n",
       "1     12.008598  11.992237  \n",
       "2     12.137422  12.133347  \n",
       "3     12.218998  12.221573  \n",
       "4     12.185252  12.187210  \n",
       "...         ...        ...  \n",
       "1454  11.375150  11.370010  \n",
       "1455  11.303356  11.285439  \n",
       "1456  11.976249  11.959039  \n",
       "1457  11.747630  11.744732  \n",
       "1458  12.288592  12.276697  \n",
       "\n",
       "[1459 rows x 6 columns]"
      ]
     },
     "execution_count": 32,
     "metadata": {},
     "output_type": "execute_result"
    }
   ],
   "source": [
    "predictions_df"
   ]
  },
  {
   "cell_type": "markdown",
   "metadata": {
    "papermill": {
     "duration": 0.069904,
     "end_time": "2021-01-13T21:31:38.098452",
     "exception": false,
     "start_time": "2021-01-13T21:31:38.028548",
     "status": "completed"
    },
    "tags": []
   },
   "source": [
    "**Out of folds predictions on public leaderboard**\n",
    "\n",
    "LGBMRegressor: 12.012\n",
    "\n",
    "XGBRegressor: 11.932\n",
    "\n",
    "GradientBoostingRegressor: 11.653\n",
    "\n",
    "SVR: 12.23\n",
    "\n",
    "Lasso: 12.77\n",
    "\n",
    "**Predict method**\n",
    "\n",
    "LGBMRegressor: 12.09\n",
    "\n",
    "XGBRegressor: 12.07\n",
    "\n",
    "GradientBoostingRegressor: 12.00\n",
    "\n",
    "SVR: 12.26\n",
    "\n",
    "Lasso: 12.78"
   ]
  },
  {
   "cell_type": "code",
   "execution_count": 33,
   "metadata": {
    "execution": {
     "iopub.execute_input": "2021-01-13T21:31:38.261892Z",
     "iopub.status.busy": "2021-01-13T21:31:38.257758Z",
     "iopub.status.idle": "2021-01-13T21:32:21.058616Z",
     "shell.execute_reply": "2021-01-13T21:32:21.057928Z"
    },
    "papermill": {
     "duration": 42.87997,
     "end_time": "2021-01-13T21:32:21.058731",
     "exception": false,
     "start_time": "2021-01-13T21:31:38.178761",
     "status": "completed"
    },
    "tags": []
   },
   "outputs": [
    {
     "name": "stdout",
     "output_type": "stream",
     "text": [
      "Out of fold predictions generating for fold  1\n",
      "Out of fold predictions generating for fold  2\n",
      "Out of fold predictions generating for fold  3\n",
      "Out of fold predictions generating for fold  4\n",
      "Out of fold predictions generating for fold  5\n",
      "Out of fold predictions generating for fold  6\n",
      "Out of fold predictions generating for fold  7\n",
      "Out of fold predictions generating for fold  8\n",
      "Out of fold predictions generating for fold  9\n",
      "Out of fold predictions generating for fold  10\n"
     ]
    }
   ],
   "source": [
    "oof = np.zeros(len(X_train))\n",
    "predictions = np.zeros(len(X_test))\n",
    "i = 1\n",
    "\n",
    "for train_ix, test_ix in kf.split(oof_df):\n",
    "\n",
    "    print(\"Out of fold predictions generating for fold \", i)\n",
    "\n",
    "    train_X, train_y = oof_df.values[train_ix], y_train[train_ix]\n",
    "    test_X, test_y = oof_df.values[test_ix], y_train[test_ix]\n",
    "    \n",
    "    model = gbr_model\n",
    "    model.fit(train_X, train_y)\n",
    "\n",
    "#     model.fit(train_X, train_y,\n",
    "#                   eval_set = [(test_X, test_y)],\n",
    "#                   eval_metric = \"rmse\",\n",
    "#                   early_stopping_rounds=250,\n",
    "#                   verbose=0)        \n",
    "\n",
    "    oof[test_ix] = oof[test_ix] + model.predict(oof_df.values[test_ix])\n",
    "    predictions = predictions + model.predict(predictions_df)\n",
    "    \n",
    "    i = i + 1\n",
    "\n",
    "    oof_stacked = oof\n",
    "    stack_preds  = predictions / 10      "
   ]
  },
  {
   "cell_type": "code",
   "execution_count": 34,
   "metadata": {
    "execution": {
     "iopub.execute_input": "2021-01-13T21:32:21.214346Z",
     "iopub.status.busy": "2021-01-13T21:32:21.213611Z",
     "iopub.status.idle": "2021-01-13T21:32:21.522663Z",
     "shell.execute_reply": "2021-01-13T21:32:21.521689Z"
    },
    "papermill": {
     "duration": 0.391294,
     "end_time": "2021-01-13T21:32:21.522783",
     "exception": false,
     "start_time": "2021-01-13T21:32:21.131489",
     "status": "completed"
    },
    "tags": []
   },
   "outputs": [
    {
     "data": {
      "text/html": [
       "<div>\n",
       "<style scoped>\n",
       "    .dataframe tbody tr th:only-of-type {\n",
       "        vertical-align: middle;\n",
       "    }\n",
       "\n",
       "    .dataframe tbody tr th {\n",
       "        vertical-align: top;\n",
       "    }\n",
       "\n",
       "    .dataframe thead th {\n",
       "        text-align: right;\n",
       "    }\n",
       "</style>\n",
       "<table border=\"1\" class=\"dataframe\">\n",
       "  <thead>\n",
       "    <tr style=\"text-align: right;\">\n",
       "      <th></th>\n",
       "      <th>Id</th>\n",
       "      <th>SalePrice</th>\n",
       "    </tr>\n",
       "  </thead>\n",
       "  <tbody>\n",
       "    <tr>\n",
       "      <th>0</th>\n",
       "      <td>1461.0</td>\n",
       "      <td>125542.102906</td>\n",
       "    </tr>\n",
       "    <tr>\n",
       "      <th>1</th>\n",
       "      <td>1462.0</td>\n",
       "      <td>165300.092575</td>\n",
       "    </tr>\n",
       "    <tr>\n",
       "      <th>2</th>\n",
       "      <td>1463.0</td>\n",
       "      <td>185849.594145</td>\n",
       "    </tr>\n",
       "    <tr>\n",
       "      <th>3</th>\n",
       "      <td>1464.0</td>\n",
       "      <td>199328.447900</td>\n",
       "    </tr>\n",
       "    <tr>\n",
       "      <th>4</th>\n",
       "      <td>1465.0</td>\n",
       "      <td>189672.448139</td>\n",
       "    </tr>\n",
       "    <tr>\n",
       "      <th>...</th>\n",
       "      <td>...</td>\n",
       "      <td>...</td>\n",
       "    </tr>\n",
       "    <tr>\n",
       "      <th>1454</th>\n",
       "      <td>2915.0</td>\n",
       "      <td>88424.836791</td>\n",
       "    </tr>\n",
       "    <tr>\n",
       "      <th>1455</th>\n",
       "      <td>2916.0</td>\n",
       "      <td>83663.269066</td>\n",
       "    </tr>\n",
       "    <tr>\n",
       "      <th>1456</th>\n",
       "      <td>2917.0</td>\n",
       "      <td>163320.492257</td>\n",
       "    </tr>\n",
       "    <tr>\n",
       "      <th>1457</th>\n",
       "      <td>2918.0</td>\n",
       "      <td>119495.959590</td>\n",
       "    </tr>\n",
       "    <tr>\n",
       "      <th>1458</th>\n",
       "      <td>2919.0</td>\n",
       "      <td>212805.509092</td>\n",
       "    </tr>\n",
       "  </tbody>\n",
       "</table>\n",
       "<p>1459 rows × 2 columns</p>\n",
       "</div>"
      ],
      "text/plain": [
       "          Id      SalePrice\n",
       "0     1461.0  125542.102906\n",
       "1     1462.0  165300.092575\n",
       "2     1463.0  185849.594145\n",
       "3     1464.0  199328.447900\n",
       "4     1465.0  189672.448139\n",
       "...      ...            ...\n",
       "1454  2915.0   88424.836791\n",
       "1455  2916.0   83663.269066\n",
       "1456  2917.0  163320.492257\n",
       "1457  2918.0  119495.959590\n",
       "1458  2919.0  212805.509092\n",
       "\n",
       "[1459 rows x 2 columns]"
      ]
     },
     "execution_count": 34,
     "metadata": {},
     "output_type": "execute_result"
    }
   ],
   "source": [
    "preds = (4 * stack_preds +\n",
    "         predictions_df[\"LGBMRegressor\"] +\n",
    "         predictions_df[\"XGBRegressor\"] +\n",
    "         2 * predictions_df[\"GradientBoostingRegressor\"] +\n",
    "         predictions_df[\"SVR\"] +\n",
    "         predictions_df[\"Lasso\"]) / 10\n",
    "\n",
    "sub = pd.DataFrame({\"Id\": test_id, \"SalePrice\": np.expm1(preds)})\n",
    "sub.to_csv(\"BlendedModel120121.csv\", index = False)\n",
    "\n",
    "sub"
   ]
  },
  {
   "cell_type": "code",
   "execution_count": null,
   "metadata": {
    "papermill": {
     "duration": 0.072257,
     "end_time": "2021-01-13T21:32:21.666537",
     "exception": false,
     "start_time": "2021-01-13T21:32:21.594280",
     "status": "completed"
    },
    "tags": []
   },
   "outputs": [],
   "source": []
  }
 ],
 "metadata": {
  "kernelspec": {
   "display_name": "Python 3",
   "language": "python",
   "name": "python3"
  },
  "language_info": {
   "codemirror_mode": {
    "name": "ipython",
    "version": 3
   },
   "file_extension": ".py",
   "mimetype": "text/x-python",
   "name": "python",
   "nbconvert_exporter": "python",
   "pygments_lexer": "ipython3",
   "version": "3.7.6"
  },
  "papermill": {
   "duration": 543.563236,
   "end_time": "2021-01-13T21:32:21.846775",
   "environment_variables": {},
   "exception": null,
   "input_path": "__notebook__.ipynb",
   "output_path": "__notebook__.ipynb",
   "parameters": {},
   "start_time": "2021-01-13T21:23:18.283539",
   "version": "2.1.0"
  }
 },
 "nbformat": 4,
 "nbformat_minor": 4
}
